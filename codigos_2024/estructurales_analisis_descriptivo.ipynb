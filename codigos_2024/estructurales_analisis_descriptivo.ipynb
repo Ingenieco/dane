{
 "cells": [
  {
   "cell_type": "markdown",
   "id": "0ed24bd2-b79a-4906-bfd4-dd5278037b6c",
   "metadata": {},
   "source": [
    "<img src=\"https://www.dane.gov.co/files/images/logos/logo-dane.svg\" alt=\"Universidade Federal do Ceará\" style=\"width: 190px;\" align=\"left\" frameborder=\"300\"/>\n",
    "\n",
    "**DANE - Detección de anomalías** <br>\n",
    "**Carlos Eduardo Gutiérrez Urueña**  <br><br>"
   ]
  },
  {
   "cell_type": "markdown",
   "id": "2a31b845-9684-4ae6-8fa2-3f35d855338a",
   "metadata": {},
   "source": [
    "# Tabla de contenido - Análisis descriptivo EAS\n",
    "\n",
    "- [Inicio](#Tabla-de-contenido)\n",
    "- [Sección 1 - Análisis descriptivo EAS Raw 2022](#Sección-1---Análisis-descriptivo-EAS-Raw-2022)\n"
   ]
  },
  {
   "cell_type": "code",
   "execution_count": 3,
   "id": "55996963-3739-4428-ae20-ab6d4fd93294",
   "metadata": {},
   "outputs": [],
   "source": [
    "import pandas as pd\n",
    "import numpy as np"
   ]
  },
  {
   "cell_type": "code",
   "execution_count": 7,
   "id": "fc8bbd3a-5b4d-45ec-ac36-bd3a8c90fde3",
   "metadata": {},
   "outputs": [
    {
     "data": {
      "text/html": [
       "<div>\n",
       "<style scoped>\n",
       "    .dataframe tbody tr th:only-of-type {\n",
       "        vertical-align: middle;\n",
       "    }\n",
       "\n",
       "    .dataframe tbody tr th {\n",
       "        vertical-align: top;\n",
       "    }\n",
       "\n",
       "    .dataframe thead th {\n",
       "        text-align: right;\n",
       "    }\n",
       "</style>\n",
       "<table border=\"1\" class=\"dataframe\">\n",
       "  <thead>\n",
       "    <tr style=\"text-align: right;\">\n",
       "      <th></th>\n",
       "      <th>idnoremp</th>\n",
       "      <th>Seccion21</th>\n",
       "      <th>Division</th>\n",
       "      <th>periodo</th>\n",
       "      <th>intio</th>\n",
       "      <th>pottcag</th>\n",
       "      <th>gppgpa</th>\n",
       "      <th>ocgtot</th>\n",
       "      <th>CONINTER</th>\n",
       "      <th>OTROSG</th>\n",
       "      <th>...</th>\n",
       "      <th>gppdocen</th>\n",
       "      <th>gppgpaed1</th>\n",
       "      <th>gppmoni</th>\n",
       "      <th>gppgpned1</th>\n",
       "      <th>gppgpned2</th>\n",
       "      <th>gppgpned3</th>\n",
       "      <th>gpptpoted1</th>\n",
       "      <th>gpptpoted2</th>\n",
       "      <th>gpptpoted3</th>\n",
       "      <th>opcomex</th>\n",
       "    </tr>\n",
       "  </thead>\n",
       "  <tbody>\n",
       "    <tr>\n",
       "      <th>0</th>\n",
       "      <td>10001</td>\n",
       "      <td>I1</td>\n",
       "      <td>55</td>\n",
       "      <td>2021</td>\n",
       "      <td>2777410.0</td>\n",
       "      <td>0</td>\n",
       "      <td>19802</td>\n",
       "      <td>1050082.0</td>\n",
       "      <td>1007932</td>\n",
       "      <td>0.0</td>\n",
       "      <td>...</td>\n",
       "      <td>NaN</td>\n",
       "      <td>NaN</td>\n",
       "      <td>NaN</td>\n",
       "      <td>NaN</td>\n",
       "      <td>NaN</td>\n",
       "      <td>NaN</td>\n",
       "      <td>NaN</td>\n",
       "      <td>NaN</td>\n",
       "      <td>NaN</td>\n",
       "      <td>NaN</td>\n",
       "    </tr>\n",
       "    <tr>\n",
       "      <th>1</th>\n",
       "      <td>10002</td>\n",
       "      <td>I1</td>\n",
       "      <td>55</td>\n",
       "      <td>2021</td>\n",
       "      <td>2563253.0</td>\n",
       "      <td>0</td>\n",
       "      <td>5969</td>\n",
       "      <td>1340512.0</td>\n",
       "      <td>893009</td>\n",
       "      <td>0.0</td>\n",
       "      <td>...</td>\n",
       "      <td>NaN</td>\n",
       "      <td>NaN</td>\n",
       "      <td>NaN</td>\n",
       "      <td>NaN</td>\n",
       "      <td>NaN</td>\n",
       "      <td>NaN</td>\n",
       "      <td>NaN</td>\n",
       "      <td>NaN</td>\n",
       "      <td>NaN</td>\n",
       "      <td>NaN</td>\n",
       "    </tr>\n",
       "  </tbody>\n",
       "</table>\n",
       "<p>2 rows × 161 columns</p>\n",
       "</div>"
      ],
      "text/plain": [
       "   idnoremp Seccion21  Division  periodo      intio  pottcag  gppgpa  \\\n",
       "0     10001        I1        55     2021  2777410.0        0   19802   \n",
       "1     10002        I1        55     2021  2563253.0        0    5969   \n",
       "\n",
       "      ocgtot  CONINTER  OTROSG  ...  gppdocen  gppgpaed1  gppmoni  gppgpned1  \\\n",
       "0  1050082.0   1007932     0.0  ...       NaN        NaN      NaN        NaN   \n",
       "1  1340512.0    893009     0.0  ...       NaN        NaN      NaN        NaN   \n",
       "\n",
       "   gppgpned2  gppgpned3  gpptpoted1  gpptpoted2  gpptpoted3  opcomex  \n",
       "0        NaN        NaN         NaN         NaN         NaN      NaN  \n",
       "1        NaN        NaN         NaN         NaN         NaN      NaN  \n",
       "\n",
       "[2 rows x 161 columns]"
      ]
     },
     "execution_count": 7,
     "metadata": {},
     "output_type": "execute_result"
    }
   ],
   "source": [
    "eas_21 = pd.read_csv('D:/jupyter/dane/datos_crudos/eas_2021.csv')\n",
    "eas_21.head(2)"
   ]
  },
  {
   "cell_type": "code",
   "execution_count": 8,
   "id": "a45ab73c-f932-4c30-aab0-bfcf8adc4617",
   "metadata": {},
   "outputs": [],
   "source": [
    "eas_21 = eas_21.rename(columns = lambda x: x.lower())"
   ]
  },
  {
   "cell_type": "code",
   "execution_count": 9,
   "id": "3928189c-dac8-4fec-8b49-acd37ce51759",
   "metadata": {},
   "outputs": [
    {
     "data": {
      "text/plain": [
       "array([55, 56, 52, 79, 61, 77, 70, 71, 78, 80, 81, 82, 85, 86, 60, 96, 53,\n",
       "       73, 68, 69, 59, 93, 62, 63, 95, 72, 74, 90, 92, 94, 87, 58],\n",
       "      dtype=int64)"
      ]
     },
     "execution_count": 9,
     "metadata": {},
     "output_type": "execute_result"
    }
   ],
   "source": [
    "eas_21['division'].unique()"
   ]
  },
  {
   "cell_type": "markdown",
   "id": "8b1ce09c-b57e-490e-bc23-a6910b6b281c",
   "metadata": {},
   "source": [
    "# Sección 1 - Análisis descriptivo EAS Raw 2022\n",
    "### [Ir al inicio](#Tabla-de-contenido)"
   ]
  }
 ],
 "metadata": {
  "kernelspec": {
   "display_name": "Python 3 (ipykernel)",
   "language": "python",
   "name": "python3"
  },
  "language_info": {
   "codemirror_mode": {
    "name": "ipython",
    "version": 3
   },
   "file_extension": ".py",
   "mimetype": "text/x-python",
   "name": "python",
   "nbconvert_exporter": "python",
   "pygments_lexer": "ipython3",
   "version": "3.12.2"
  }
 },
 "nbformat": 4,
 "nbformat_minor": 5
}
