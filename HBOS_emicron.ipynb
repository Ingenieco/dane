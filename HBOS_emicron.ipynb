{
 "cells": [
  {
   "cell_type": "code",
   "execution_count": 1,
   "id": "cc9e4026-a1bd-4cc0-90a6-3749137f053d",
   "metadata": {},
   "outputs": [],
   "source": [
    "import numpy as np\n",
    "import pandas as pd\n",
    "from pyod.utils.data import generate_data\n",
    "from pyod.models.hbos import HBOS\n",
    "import matplotlib.pyplot as plt\n",
    "from sklearn.model_selection import train_test_split"
   ]
  },
  {
   "cell_type": "code",
   "execution_count": 183,
   "id": "ed9f2eed-ecbc-454f-ab56-7831a85a99fe",
   "metadata": {},
   "outputs": [],
   "source": [
    "# Importando los datos\n",
    "emicron = pd.read_excel('emicron_21_final_ambulantes.xlsx')"
   ]
  },
  {
   "cell_type": "code",
   "execution_count": 233,
   "id": "b92a3cb4-12c9-4c36-9ffb-64cd143e1317",
   "metadata": {},
   "outputs": [
    {
     "data": {
      "text/plain": [
       "(2702, 142)"
      ]
     },
     "execution_count": 233,
     "metadata": {},
     "output_type": "execute_result"
    }
   ],
   "source": [
    "#emicron['p3053'].head()\n",
    "emicron.shape\n",
    "#emicron['id'].head()\n",
    "#len(emicron)"
   ]
  },
  {
   "cell_type": "code",
   "execution_count": 206,
   "id": "62d03019-3335-40fc-a832-53e5f5df9427",
   "metadata": {
    "scrolled": true
   },
   "outputs": [],
   "source": [
    "# Identificando las columnas que tienen 0 o nulos en todas sus filas\n",
    "#emicron['p3092'].head().unique()\n",
    "columnas_con_nan = emicron.columns[emicron.isna().sum() == len(emicron)]"
   ]
  },
  {
   "cell_type": "code",
   "execution_count": 207,
   "id": "f221eeaa-60f6-466b-9f45-2aeed66df22d",
   "metadata": {},
   "outputs": [
    {
     "name": "stdout",
     "output_type": "stream",
     "text": [
      "Index([], dtype='object')\n"
     ]
    }
   ],
   "source": [
    "print(columnas_con_nan)"
   ]
  },
  {
   "cell_type": "code",
   "execution_count": 194,
   "id": "52509a53-8d56-4e19-9422-2f9bd19df20a",
   "metadata": {},
   "outputs": [],
   "source": [
    "# Eliminando las columnas que no se tienen en cuenta en el modelo (valores nulos e identificadores)\n",
    "emicron.drop(['id', 'mes_ref', 'directorio', 'secuencia_p', 'secuencia_encuesta', 'p3095', 'p3096', 'p3055', 'p3097', 'p3056_d', 'p3057_d', 'p3092', 'p3093', 'p4017', 'p4018', 'p4031', 'p4032'], axis = 1, inplace = True)"
   ]
  },
  {
   "cell_type": "code",
   "execution_count": 230,
   "id": "cc5ffba2-a2cb-4fa2-bf47-234639ab8296",
   "metadata": {},
   "outputs": [
    {
     "data": {
      "text/plain": [
       "cod_depto                     int64\n",
       "area                        float64\n",
       "clase_te                      int64\n",
       "p35                           int64\n",
       "p241                          int64\n",
       "                             ...   \n",
       "ventas_mes_anterior           int64\n",
       "ventas_mes_anio_anterior    float64\n",
       "ventas_anio_anterior        float64\n",
       "valor_agregado                int64\n",
       "ingreso_mixto                 int64\n",
       "Length: 142, dtype: object"
      ]
     },
     "execution_count": 230,
     "metadata": {},
     "output_type": "execute_result"
    }
   ],
   "source": [
    "emicron.dtypes"
   ]
  },
  {
   "cell_type": "code",
   "execution_count": 198,
   "id": "84ff84c7-a742-4fd5-b397-6eeb491f13b3",
   "metadata": {},
   "outputs": [
    {
     "data": {
      "text/html": [
       "<div>\n",
       "<style scoped>\n",
       "    .dataframe tbody tr th:only-of-type {\n",
       "        vertical-align: middle;\n",
       "    }\n",
       "\n",
       "    .dataframe tbody tr th {\n",
       "        vertical-align: top;\n",
       "    }\n",
       "\n",
       "    .dataframe thead th {\n",
       "        text-align: right;\n",
       "    }\n",
       "</style>\n",
       "<table border=\"1\" class=\"dataframe\">\n",
       "  <thead>\n",
       "    <tr style=\"text-align: right;\">\n",
       "      <th></th>\n",
       "      <th>cod_depto</th>\n",
       "      <th>area</th>\n",
       "      <th>clase_te</th>\n",
       "      <th>p35</th>\n",
       "      <th>p241</th>\n",
       "      <th>p3031</th>\n",
       "      <th>p3032_1</th>\n",
       "      <th>p3032_2</th>\n",
       "      <th>p3032_3</th>\n",
       "      <th>p3033</th>\n",
       "      <th>...</th>\n",
       "      <th>p4028</th>\n",
       "      <th>p4029</th>\n",
       "      <th>p4030</th>\n",
       "      <th>p4038</th>\n",
       "      <th>p3072</th>\n",
       "      <th>ventas_mes_anterior</th>\n",
       "      <th>ventas_mes_anio_anterior</th>\n",
       "      <th>ventas_anio_anterior</th>\n",
       "      <th>valor_agregado</th>\n",
       "      <th>ingreso_mixto</th>\n",
       "    </tr>\n",
       "  </thead>\n",
       "  <tbody>\n",
       "    <tr>\n",
       "      <th>0</th>\n",
       "      <td>73</td>\n",
       "      <td>73.0</td>\n",
       "      <td>1</td>\n",
       "      <td>2</td>\n",
       "      <td>35</td>\n",
       "      <td>1</td>\n",
       "      <td>0.0</td>\n",
       "      <td>0.0</td>\n",
       "      <td>1.0</td>\n",
       "      <td>2</td>\n",
       "      <td>...</td>\n",
       "      <td>0.0</td>\n",
       "      <td>0.0</td>\n",
       "      <td>0.0</td>\n",
       "      <td>NaN</td>\n",
       "      <td>180000</td>\n",
       "      <td>400000</td>\n",
       "      <td>NaN</td>\n",
       "      <td>800000.0</td>\n",
       "      <td>116000</td>\n",
       "      <td>116000</td>\n",
       "    </tr>\n",
       "    <tr>\n",
       "      <th>1</th>\n",
       "      <td>63</td>\n",
       "      <td>63.0</td>\n",
       "      <td>1</td>\n",
       "      <td>1</td>\n",
       "      <td>61</td>\n",
       "      <td>2</td>\n",
       "      <td>NaN</td>\n",
       "      <td>NaN</td>\n",
       "      <td>NaN</td>\n",
       "      <td>2</td>\n",
       "      <td>...</td>\n",
       "      <td>0.0</td>\n",
       "      <td>0.0</td>\n",
       "      <td>0.0</td>\n",
       "      <td>NaN</td>\n",
       "      <td>300000</td>\n",
       "      <td>870000</td>\n",
       "      <td>870000.0</td>\n",
       "      <td>7830000.0</td>\n",
       "      <td>300000</td>\n",
       "      <td>300000</td>\n",
       "    </tr>\n",
       "    <tr>\n",
       "      <th>2</th>\n",
       "      <td>76</td>\n",
       "      <td>76.0</td>\n",
       "      <td>1</td>\n",
       "      <td>2</td>\n",
       "      <td>49</td>\n",
       "      <td>2</td>\n",
       "      <td>NaN</td>\n",
       "      <td>NaN</td>\n",
       "      <td>NaN</td>\n",
       "      <td>2</td>\n",
       "      <td>...</td>\n",
       "      <td>0.0</td>\n",
       "      <td>0.0</td>\n",
       "      <td>0.0</td>\n",
       "      <td>NaN</td>\n",
       "      <td>700000</td>\n",
       "      <td>650000</td>\n",
       "      <td>800000.0</td>\n",
       "      <td>6000000.0</td>\n",
       "      <td>300000</td>\n",
       "      <td>300000</td>\n",
       "    </tr>\n",
       "    <tr>\n",
       "      <th>3</th>\n",
       "      <td>50</td>\n",
       "      <td>50.0</td>\n",
       "      <td>1</td>\n",
       "      <td>2</td>\n",
       "      <td>38</td>\n",
       "      <td>1</td>\n",
       "      <td>0.0</td>\n",
       "      <td>0.0</td>\n",
       "      <td>2.0</td>\n",
       "      <td>2</td>\n",
       "      <td>...</td>\n",
       "      <td>0.0</td>\n",
       "      <td>0.0</td>\n",
       "      <td>0.0</td>\n",
       "      <td>NaN</td>\n",
       "      <td>300000</td>\n",
       "      <td>700000</td>\n",
       "      <td>750000.0</td>\n",
       "      <td>7800000.0</td>\n",
       "      <td>274000</td>\n",
       "      <td>274000</td>\n",
       "    </tr>\n",
       "    <tr>\n",
       "      <th>4</th>\n",
       "      <td>5</td>\n",
       "      <td>5.0</td>\n",
       "      <td>1</td>\n",
       "      <td>2</td>\n",
       "      <td>47</td>\n",
       "      <td>2</td>\n",
       "      <td>NaN</td>\n",
       "      <td>NaN</td>\n",
       "      <td>NaN</td>\n",
       "      <td>2</td>\n",
       "      <td>...</td>\n",
       "      <td>0.0</td>\n",
       "      <td>0.0</td>\n",
       "      <td>0.0</td>\n",
       "      <td>NaN</td>\n",
       "      <td>50000</td>\n",
       "      <td>700000</td>\n",
       "      <td>NaN</td>\n",
       "      <td>5498833.0</td>\n",
       "      <td>450000</td>\n",
       "      <td>450000</td>\n",
       "    </tr>\n",
       "    <tr>\n",
       "      <th>...</th>\n",
       "      <td>...</td>\n",
       "      <td>...</td>\n",
       "      <td>...</td>\n",
       "      <td>...</td>\n",
       "      <td>...</td>\n",
       "      <td>...</td>\n",
       "      <td>...</td>\n",
       "      <td>...</td>\n",
       "      <td>...</td>\n",
       "      <td>...</td>\n",
       "      <td>...</td>\n",
       "      <td>...</td>\n",
       "      <td>...</td>\n",
       "      <td>...</td>\n",
       "      <td>...</td>\n",
       "      <td>...</td>\n",
       "      <td>...</td>\n",
       "      <td>...</td>\n",
       "      <td>...</td>\n",
       "      <td>...</td>\n",
       "      <td>...</td>\n",
       "    </tr>\n",
       "    <tr>\n",
       "      <th>2697</th>\n",
       "      <td>50</td>\n",
       "      <td>50.0</td>\n",
       "      <td>1</td>\n",
       "      <td>2</td>\n",
       "      <td>51</td>\n",
       "      <td>2</td>\n",
       "      <td>NaN</td>\n",
       "      <td>NaN</td>\n",
       "      <td>NaN</td>\n",
       "      <td>2</td>\n",
       "      <td>...</td>\n",
       "      <td>0.0</td>\n",
       "      <td>0.0</td>\n",
       "      <td>0.0</td>\n",
       "      <td>NaN</td>\n",
       "      <td>750000</td>\n",
       "      <td>1500000</td>\n",
       "      <td>NaN</td>\n",
       "      <td>NaN</td>\n",
       "      <td>750000</td>\n",
       "      <td>750000</td>\n",
       "    </tr>\n",
       "    <tr>\n",
       "      <th>2698</th>\n",
       "      <td>50</td>\n",
       "      <td>50.0</td>\n",
       "      <td>1</td>\n",
       "      <td>1</td>\n",
       "      <td>25</td>\n",
       "      <td>2</td>\n",
       "      <td>NaN</td>\n",
       "      <td>NaN</td>\n",
       "      <td>NaN</td>\n",
       "      <td>2</td>\n",
       "      <td>...</td>\n",
       "      <td>0.0</td>\n",
       "      <td>0.0</td>\n",
       "      <td>0.0</td>\n",
       "      <td>NaN</td>\n",
       "      <td>500000</td>\n",
       "      <td>800000</td>\n",
       "      <td>NaN</td>\n",
       "      <td>NaN</td>\n",
       "      <td>490000</td>\n",
       "      <td>490000</td>\n",
       "    </tr>\n",
       "    <tr>\n",
       "      <th>2699</th>\n",
       "      <td>50</td>\n",
       "      <td>50.0</td>\n",
       "      <td>1</td>\n",
       "      <td>2</td>\n",
       "      <td>48</td>\n",
       "      <td>2</td>\n",
       "      <td>NaN</td>\n",
       "      <td>NaN</td>\n",
       "      <td>NaN</td>\n",
       "      <td>2</td>\n",
       "      <td>...</td>\n",
       "      <td>0.0</td>\n",
       "      <td>0.0</td>\n",
       "      <td>0.0</td>\n",
       "      <td>NaN</td>\n",
       "      <td>300000</td>\n",
       "      <td>700000</td>\n",
       "      <td>600000.0</td>\n",
       "      <td>5000000.0</td>\n",
       "      <td>320000</td>\n",
       "      <td>320000</td>\n",
       "    </tr>\n",
       "    <tr>\n",
       "      <th>2700</th>\n",
       "      <td>50</td>\n",
       "      <td>50.0</td>\n",
       "      <td>1</td>\n",
       "      <td>2</td>\n",
       "      <td>33</td>\n",
       "      <td>2</td>\n",
       "      <td>NaN</td>\n",
       "      <td>NaN</td>\n",
       "      <td>NaN</td>\n",
       "      <td>2</td>\n",
       "      <td>...</td>\n",
       "      <td>0.0</td>\n",
       "      <td>8750000.0</td>\n",
       "      <td>0.0</td>\n",
       "      <td>NaN</td>\n",
       "      <td>650000</td>\n",
       "      <td>1900000</td>\n",
       "      <td>1250000.0</td>\n",
       "      <td>8750000.0</td>\n",
       "      <td>660000</td>\n",
       "      <td>660000</td>\n",
       "    </tr>\n",
       "    <tr>\n",
       "      <th>2701</th>\n",
       "      <td>41</td>\n",
       "      <td>41.0</td>\n",
       "      <td>1</td>\n",
       "      <td>1</td>\n",
       "      <td>47</td>\n",
       "      <td>2</td>\n",
       "      <td>NaN</td>\n",
       "      <td>NaN</td>\n",
       "      <td>NaN</td>\n",
       "      <td>2</td>\n",
       "      <td>...</td>\n",
       "      <td>NaN</td>\n",
       "      <td>NaN</td>\n",
       "      <td>NaN</td>\n",
       "      <td>NaN</td>\n",
       "      <td>5000000</td>\n",
       "      <td>5000000</td>\n",
       "      <td>5000000.0</td>\n",
       "      <td>40000000.0</td>\n",
       "      <td>-30000000</td>\n",
       "      <td>-30000000</td>\n",
       "    </tr>\n",
       "  </tbody>\n",
       "</table>\n",
       "<p>2702 rows × 142 columns</p>\n",
       "</div>"
      ],
      "text/plain": [
       "      cod_depto  area  clase_te  p35  p241  p3031  p3032_1  p3032_2  p3032_3  \\\n",
       "0            73  73.0         1    2    35      1      0.0      0.0      1.0   \n",
       "1            63  63.0         1    1    61      2      NaN      NaN      NaN   \n",
       "2            76  76.0         1    2    49      2      NaN      NaN      NaN   \n",
       "3            50  50.0         1    2    38      1      0.0      0.0      2.0   \n",
       "4             5   5.0         1    2    47      2      NaN      NaN      NaN   \n",
       "...         ...   ...       ...  ...   ...    ...      ...      ...      ...   \n",
       "2697         50  50.0         1    2    51      2      NaN      NaN      NaN   \n",
       "2698         50  50.0         1    1    25      2      NaN      NaN      NaN   \n",
       "2699         50  50.0         1    2    48      2      NaN      NaN      NaN   \n",
       "2700         50  50.0         1    2    33      2      NaN      NaN      NaN   \n",
       "2701         41  41.0         1    1    47      2      NaN      NaN      NaN   \n",
       "\n",
       "      p3033  ...  p4028      p4029  p4030  p4038    p3072  \\\n",
       "0         2  ...    0.0        0.0    0.0    NaN   180000   \n",
       "1         2  ...    0.0        0.0    0.0    NaN   300000   \n",
       "2         2  ...    0.0        0.0    0.0    NaN   700000   \n",
       "3         2  ...    0.0        0.0    0.0    NaN   300000   \n",
       "4         2  ...    0.0        0.0    0.0    NaN    50000   \n",
       "...     ...  ...    ...        ...    ...    ...      ...   \n",
       "2697      2  ...    0.0        0.0    0.0    NaN   750000   \n",
       "2698      2  ...    0.0        0.0    0.0    NaN   500000   \n",
       "2699      2  ...    0.0        0.0    0.0    NaN   300000   \n",
       "2700      2  ...    0.0  8750000.0    0.0    NaN   650000   \n",
       "2701      2  ...    NaN        NaN    NaN    NaN  5000000   \n",
       "\n",
       "      ventas_mes_anterior  ventas_mes_anio_anterior  ventas_anio_anterior  \\\n",
       "0                  400000                       NaN              800000.0   \n",
       "1                  870000                  870000.0             7830000.0   \n",
       "2                  650000                  800000.0             6000000.0   \n",
       "3                  700000                  750000.0             7800000.0   \n",
       "4                  700000                       NaN             5498833.0   \n",
       "...                   ...                       ...                   ...   \n",
       "2697              1500000                       NaN                   NaN   \n",
       "2698               800000                       NaN                   NaN   \n",
       "2699               700000                  600000.0             5000000.0   \n",
       "2700              1900000                 1250000.0             8750000.0   \n",
       "2701              5000000                 5000000.0            40000000.0   \n",
       "\n",
       "      valor_agregado  ingreso_mixto  \n",
       "0             116000         116000  \n",
       "1             300000         300000  \n",
       "2             300000         300000  \n",
       "3             274000         274000  \n",
       "4             450000         450000  \n",
       "...              ...            ...  \n",
       "2697          750000         750000  \n",
       "2698          490000         490000  \n",
       "2699          320000         320000  \n",
       "2700          660000         660000  \n",
       "2701       -30000000      -30000000  \n",
       "\n",
       "[2702 rows x 142 columns]"
      ]
     },
     "execution_count": 198,
     "metadata": {},
     "output_type": "execute_result"
    }
   ],
   "source": [
    "# Borrando las posibles filas que tengan valores vacíos en toda las variables\n",
    "emicron.dropna(how = 'all', axis = 0)"
   ]
  },
  {
   "cell_type": "code",
   "execution_count": 205,
   "id": "73bfd74c-1323-4293-8351-e05e5fef01bf",
   "metadata": {},
   "outputs": [],
   "source": [
    "# Reemplazando los valores nan por el promedio\n",
    "emicron = emicron.fillna(emicron.mean())"
   ]
  },
  {
   "cell_type": "code",
   "execution_count": 235,
   "id": "b17914f4-830a-48a9-b855-df2f53e0f6f3",
   "metadata": {},
   "outputs": [
    {
     "name": "stdout",
     "output_type": "stream",
     "text": [
      "Existen valores nulos?: True. Cunántos valores nulos hay 176253\n"
     ]
    }
   ],
   "source": [
    "# Verificando que no existan valores nulos en el dataset\n",
    "print(f\"¿Existen valores nulos?: {emicron.isnull().values.any()}. ¿Cunántos valores nulos hay?: {emicron.isnull().sum().sum()}\")"
   ]
  },
  {
   "cell_type": "code",
   "execution_count": 217,
   "id": "e8a73f42-5fdd-4a3a-bc46-6b588b5c49bc",
   "metadata": {},
   "outputs": [],
   "source": [
    "# Dividiendo el dataset en datos de entrenamiento y datos de validación\n",
    "\n",
    "X_train, X_test = train_test_split(emicron, test_size = 0.3, random_state = 0)"
   ]
  },
  {
   "cell_type": "code",
   "execution_count": 219,
   "id": "a3fef22c-f0e1-4507-99e5-dcbe1c052a63",
   "metadata": {},
   "outputs": [
    {
     "data": {
      "text/plain": [
       "cod_depto                   0\n",
       "area                        0\n",
       "clase_te                    0\n",
       "p35                         0\n",
       "p241                        0\n",
       "                           ..\n",
       "ventas_mes_anterior         0\n",
       "ventas_mes_anio_anterior    0\n",
       "ventas_anio_anterior        0\n",
       "valor_agregado              0\n",
       "ingreso_mixto               0\n",
       "Length: 142, dtype: int64"
      ]
     },
     "execution_count": 219,
     "metadata": {},
     "output_type": "execute_result"
    }
   ],
   "source": [
    "X_train.head()"
   ]
  },
  {
   "cell_type": "code",
   "execution_count": 220,
   "id": "b537f9a7-a8d8-49b5-98eb-942da5289040",
   "metadata": {},
   "outputs": [
    {
     "name": "stdout",
     "output_type": "stream",
     "text": [
      "El tamaño de los datos de entrenamiento es: (1891, 142) y de validación: (811, 142)\n"
     ]
    }
   ],
   "source": [
    "print(f\"El tamaño de los datos de entrenamiento es: {X_train.shape} y de validación: {X_test.shape}\")"
   ]
  },
  {
   "cell_type": "code",
   "execution_count": 221,
   "id": "016b01e9-1eac-4ad9-aa54-27d2a2404516",
   "metadata": {},
   "outputs": [
    {
     "data": {
      "image/png": "[encoded data removed]",
      "text/plain": [
       "<Figure size 640x480 with 1 Axes>"
      ]
     },
     "metadata": {},
     "output_type": "display_data"
    }
   ],
   "source": [
    "# Graficando las variables 0 y 1 en un scatter plot e identificando atípicos. Amarillo atípicos, morados, datos normales\n",
    "plt.scatter(X_train['p3089'], X_train['prestaciones'], alpha = 0.8) # c es la lista de colores de acuerdo con los valores únicos de esta variable, la cual en la líne anterior es 1,0\n",
    "plt.title(\"Scatter plot\")\n",
    "plt.xlabel('x0')\n",
    "plt.ylabel('x1')\n",
    "plt.show()"
   ]
  },
  {
   "cell_type": "code",
   "execution_count": 222,
   "id": "8e0074f0-f696-49ad-948f-b71bc35db906",
   "metadata": {},
   "outputs": [
    {
     "data": {
      "text/plain": [
       "HBOS(alpha=0.1, contamination=0.05, n_bins=50, tol=0.5)"
      ]
     },
     "execution_count": 222,
     "metadata": {},
     "output_type": "execute_result"
    }
   ],
   "source": [
    "n_bins = 50\n",
    "hbos = HBOS(n_bins = n_bins, contamination = 0.05)\n",
    "hbos.fit(X_train)"
   ]
  },
  {
   "cell_type": "code",
   "execution_count": 223,
   "id": "a2d01c72-9eb2-466a-acdd-fd7eb8ce52ae",
   "metadata": {},
   "outputs": [
    {
     "name": "stdout",
     "output_type": "stream",
     "text": [
      "El umbral para los datos de ratio contaminados:  110.85820273826559\n"
     ]
    }
   ],
   "source": [
    "print(\"El umbral para los datos de ratio contaminados: \", hbos.threshold_)"
   ]
  },
  {
   "cell_type": "code",
   "execution_count": 224,
   "id": "fc06f173-5fde-4c47-adbf-8cf9b3fd99c7",
   "metadata": {},
   "outputs": [],
   "source": [
    "# Creando las puntuaciones para los datos de entrenamiento y prediciendo cuando una instancia es atípica o no\n",
    "# la función predict compara la puntuación de los datos atípicoscon el umbral. Si la puntuación de un atípico es mayor al umbral, la función asigna 1, o en caso contrario , 0\n",
    "# Datos de entrenamiento\n",
    "\n",
    "Y_train_scores = hbos.decision_function(X_train)\n",
    "Y_train_pred = hbos.predict(X_train)\n",
    "\n",
    "# Datos de testeo o validación\n",
    "Y_test_scores = hbos.decision_function(X_test)\n",
    "Y_test_pred = hbos.predict(X_test)"
   ]
  },
  {
   "cell_type": "code",
   "execution_count": 225,
   "id": "a13a14d1-0c20-4fca-bcc3-e037298aff44",
   "metadata": {},
   "outputs": [
    {
     "name": "stdout",
     "output_type": "stream",
     "text": [
      "Los datos de entrenamiento:  {0: 1796, 1: 95}\n",
      "Los datos de validación o test:  {0: 774, 1: 37}\n"
     ]
    }
   ],
   "source": [
    "Y_train_pred\n",
    "#contanto el número de valores predichos\n",
    "def count_stat(vector):\n",
    "    unique, counts = np.unique(vector,\n",
    "                               return_counts = True)\n",
    "    return dict(zip(unique, counts))\n",
    "\n",
    "print(\"Los datos de entrenamiento: \", count_stat(Y_train_pred))\n",
    "print(\"Los datos de validación o test: \", count_stat(Y_test_pred))"
   ]
  },
  {
   "cell_type": "code",
   "execution_count": 226,
   "id": "e4591181-d01b-415c-b71d-2190eb8cd373",
   "metadata": {},
   "outputs": [
    {
     "data": {
      "image/png": "[encoded data removed]",
      "text/plain": [
       "<Figure size 640x480 with 1 Axes>"
      ]
     },
     "metadata": {},
     "output_type": "display_data"
    }
   ],
   "source": [
    "plt.hist(Y_test_scores, bins = 'auto')\n",
    "plt.title(\"Histogram with 'auto' bins\")\n",
    "plt.xlabel('HBOS')\n",
    "plt.show()"
   ]
  }
 ],
 "metadata": {
  "kernelspec": {
   "display_name": "Python 3 (ipykernel)",
   "language": "python",
   "name": "python3"
  },
  "language_info": {
   "codemirror_mode": {
    "name": "ipython",
    "version": 3
   },
   "file_extension": ".py",
   "mimetype": "text/x-python",
   "name": "python",
   "nbconvert_exporter": "python",
   "pygments_lexer": "ipython3",
   "version": "3.12.2"
  }
 },
 "nbformat": 4,
 "nbformat_minor": 5
}
